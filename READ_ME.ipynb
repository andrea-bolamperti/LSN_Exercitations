{
 "cells": [
  {
   "cell_type": "markdown",
   "metadata": {},
   "source": [
    "<img src=\"EX1/Images/logo.jpg\" width=\"600\">"
   ]
  },
  {
   "cell_type": "markdown",
   "metadata": {},
   "source": [
    "## <center> <span style=\"color:darkred\"> READ_ME </span> </center>"
   ]
  },
  {
   "cell_type": "markdown",
   "metadata": {},
   "source": [
    "<span style=\"color:navy\"><font face=\"Courier\">  Author:    </font></span>\n",
    "\n",
    " <span style=\"color:navy\"><font face=\"Courier\"> \n",
    ">  Andrea Bolamperti  \n",
    "> 955030      "
   ]
  },
  {
   "cell_type": "markdown",
   "metadata": {},
   "source": [
    "<span style=\"color:navy\"><font face=\"Courier\">  Numerical Simulation Laboratory 2019-2020:    </font></span>\n",
    "\n",
    " <span style=\"color:navy\"><font face=\"Courier\"> \n",
    ">  D. E. Galli   \n",
    ">  F. Mambretti     "
   ]
  },
  {
   "cell_type": "markdown",
   "metadata": {},
   "source": [
    "I created a directory for every exercitation, with names `EX*` from 1 to 12.  \n",
    "Each directory contains: \n",
    "- Jupyter Notebook with the text and questions of the exercitation, given by the professor;\n",
    "- Jupyter Notebook done by me with the results, with name `E*`\n",
    "- A subdirectory, whose name is `P*`, useful in those exercitations divided in more than one part (here, the subdirectories are more than one and their names are self-explaining). This contains: \n",
    "    - the code I developed;  \n",
    "    - the results, in a directory `Risultati`, from which I take the data used in the Jupyter Notebook.\n",
    "    - The compilation normally is with a makefile with the command 'make', and the execution is with './main.exe'. In some exercitation (in particular in the ones in which the code was given and we only had to complete it), the executable may have a different name, i.e. the execution will be different.\n",
    "\n",
    "All the codes are already compiled and the results are available. Some instruction for re-execution or to overload the results is given in the respective exercitation.  \n",
    "\n",
    "The C++ code is briefly commented just to make one understand what I suppose to do, then the comments and the explaination to make my work as clear as possible is reported in the Jupyter Notebooks.\n",
    "      \n",
    "    \n",
    "    \n",
    "    \n",
    "    \n",
    "    \n"
   ]
  },
  {
   "cell_type": "markdown",
   "metadata": {},
   "source": [
    "<div style=\"text-align: right\"> <span style=\"color:navy\">\n",
    "7 July 2020  $\\quad \\quad \\quad \\quad $\n",
    "</span> </div>"
   ]
  },
  {
   "cell_type": "markdown",
   "metadata": {},
   "source": [
    "<div style=\"text-align: right\"> <span style=\"color:navy\">\n",
    "Andrea Bolamperti $\\quad \\quad \\quad$\n",
    " </span> </div>"
   ]
  }
 ],
 "metadata": {
  "kernelspec": {
   "display_name": "Python 3",
   "language": "python",
   "name": "python3"
  },
  "language_info": {
   "codemirror_mode": {
    "name": "ipython",
    "version": 3
   },
   "file_extension": ".py",
   "mimetype": "text/x-python",
   "name": "python",
   "nbconvert_exporter": "python",
   "pygments_lexer": "ipython3",
   "version": "3.7.6"
  }
 },
 "nbformat": 4,
 "nbformat_minor": 4
}
